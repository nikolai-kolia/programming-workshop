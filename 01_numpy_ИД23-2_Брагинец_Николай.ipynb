{
 "cells": [
  {
   "cell_type": "markdown",
   "metadata": {},
   "source": [
    "# Numpy"
   ]
  },
  {
   "cell_type": "markdown",
   "metadata": {},
   "source": [
    "## Лабораторная работа №1"
   ]
  },
  {
   "cell_type": "markdown",
   "metadata": {},
   "source": [
    "Замечание: при решении данных задач не подразумевается использования циклов или генераторов Python, если в задании не сказано обратного. Решение должно опираться на использования функционала библиотеки `numpy`."
   ]
  },
  {
   "cell_type": "markdown",
   "metadata": {},
   "source": [
    "1. Файл `minutes_n_ingredients.csv` содержит информацию об идентификаторе рецепта, времени его выполнения в минутах и количестве необходимых ингредиентов. Считайте данные из этого файла в виде массива `numpy` типа `int32`, используя `np.loadtxt`. Выведите на экран первые 5 строк массива."
   ]
  },
  {
   "cell_type": "code",
   "execution_count": 136,
   "metadata": {
    "scrolled": true
   },
   "outputs": [
    {
     "name": "stdout",
     "output_type": "stream",
     "text": [
      "[[127244     60     16]\n",
      " [ 23891     25      7]\n",
      " [ 94746     10      6]\n",
      " [ 67660      5      6]\n",
      " [157911     60     14]]\n"
     ]
    }
   ],
   "source": [
    "import numpy as np\n",
    "\n",
    "data = np.loadtxt('minutes_n_ingredients.csv', delimiter=',', skiprows=1, dtype=np.int32)\n",
    "print(data[:5])"
   ]
  },
  {
   "cell_type": "markdown",
   "metadata": {},
   "source": [
    "2. Вычислите среднее значение, минимум, максимум и медиану по каждому из столбцов, кроме первого."
   ]
  },
  {
   "cell_type": "code",
   "execution_count": 51,
   "metadata": {},
   "outputs": [
    {
     "name": "stdout",
     "output_type": "stream",
     "text": [
      "[2.16010017e+04 9.05528000e+00]\n",
      "[0 1]\n",
      "[2147483647         39]\n",
      "[40.  9.]\n"
     ]
    }
   ],
   "source": [
    "print(data.mean(axis=0)[1:])\n",
    "print(data.min(axis=0)[1:])\n",
    "print(data.max(axis=0)[1:])\n",
    "print(np.median(data[:, 1:], axis=0))"
   ]
  },
  {
   "cell_type": "markdown",
   "metadata": {},
   "source": [
    "3. Ограничьте сверху значения продолжительности выполнения рецепта значением квантиля $q_{0.75}$. "
   ]
  },
  {
   "cell_type": "code",
   "execution_count": 91,
   "metadata": {},
   "outputs": [
    {
     "name": "stdout",
     "output_type": "stream",
     "text": [
      "[[ 94746     10      6]\n",
      " [ 67660      5      6]\n",
      " [366174      7      9]\n",
      " ...\n",
      " [420725      5      3]\n",
      " [  4747      1      9]\n",
      " [370915      5      4]]\n"
     ]
    }
   ],
   "source": [
    "print(data[data[:, 1] <= np.quantile(data[:, 2], 0.75)])"
   ]
  },
  {
   "cell_type": "markdown",
   "metadata": {},
   "source": [
    "4. Посчитайте, для скольких рецептов указана продолжительность, равная нулю. Замените для таких строк значение в данном столбце на 1."
   ]
  },
  {
   "cell_type": "code",
   "execution_count": 56,
   "metadata": {},
   "outputs": [
    {
     "name": "stdout",
     "output_type": "stream",
     "text": [
      "479\n"
     ]
    }
   ],
   "source": [
    "count_of_zeros = np.count_nonzero(data[:,1] == 0)\n",
    "print(count_of_zeros)\n",
    "data[:,1][data[:,1] == 0] = 1"
   ]
  },
  {
   "cell_type": "markdown",
   "metadata": {},
   "source": [
    "5. Посчитайте, сколько уникальных рецептов находится в датасете."
   ]
  },
  {
   "cell_type": "code",
   "execution_count": 95,
   "metadata": {},
   "outputs": [
    {
     "name": "stdout",
     "output_type": "stream",
     "text": [
      "33514\n"
     ]
    }
   ],
   "source": [
    "print(int(len((np.unique(data))) / 3))"
   ]
  },
  {
   "cell_type": "markdown",
   "metadata": {},
   "source": [
    "6. Сколько и каких различных значений кол-ва ингредиентов присутвует в рецептах из датасета?"
   ]
  },
  {
   "cell_type": "code",
   "execution_count": 63,
   "metadata": {},
   "outputs": [
    {
     "name": "stdout",
     "output_type": "stream",
     "text": [
      "37\n"
     ]
    }
   ],
   "source": [
    "print(np.unique(data[:,2]).size)"
   ]
  },
  {
   "cell_type": "markdown",
   "metadata": {},
   "source": [
    "7. Создайте версию массива, содержащую информацию только о рецептах, состоящих не более чем из 5 ингредиентов."
   ]
  },
  {
   "cell_type": "code",
   "execution_count": 138,
   "metadata": {},
   "outputs": [
    {
     "name": "stdout",
     "output_type": "stream",
     "text": [
      "[[446597     15      5]\n",
      " [204134      5      3]\n",
      " [ 25623      6      4]\n",
      " ...\n",
      " [ 52088     60      5]\n",
      " [128811     15      4]\n",
      " [370915      5      4]]\n"
     ]
    }
   ],
   "source": [
    "new_data = data[data[:,2] <= 5]\n",
    "print(new_data)"
   ]
  },
  {
   "cell_type": "markdown",
   "metadata": {},
   "source": [
    "8. Для каждого рецепта посчитайте, сколько в среднем ингредиентов приходится на одну минуту рецепта. Найдите максимальное значение этой величины для всего датасета"
   ]
  },
  {
   "cell_type": "code",
   "execution_count": 97,
   "metadata": {},
   "outputs": [
    {
     "name": "stdout",
     "output_type": "stream",
     "text": [
      "24.0\n"
     ]
    }
   ],
   "source": [
    "ingredient_per_minute = data[:,2] / data[:,1]\n",
    "print(np.max(ingredient_per_minute))"
   ]
  },
  {
   "cell_type": "markdown",
   "metadata": {},
   "source": [
    "9. Вычислите среднее количество ингредиентов для топ-100 рецептов с наибольшей продолжительностью"
   ]
  },
  {
   "cell_type": "code",
   "execution_count": 106,
   "metadata": {},
   "outputs": [
    {
     "name": "stdout",
     "output_type": "stream",
     "text": [
      "[[    261647 2147483647          8]\n",
      " [    216215     259260          7]\n",
      " [    425681     259205          2]\n",
      " [     98912     216015          4]\n",
      " [     70551     201610          7]\n",
      " [    236340     146880          5]\n",
      " [    242032     132495          3]\n",
      " [    184528     129620          3]\n",
      " [    236274     129615          5]\n",
      " [    236281     129615          5]\n",
      " [     13264     115230          4]\n",
      " [    105417      86405          2]\n",
      " [     41403      86400          4]\n",
      " [     34175      86400          3]\n",
      " [    142936      86400          9]\n",
      " [     93063      86400          2]\n",
      " [     42247      69120          2]\n",
      " [    255611      64815          3]\n",
      " [    140344      60555          3]\n",
      " [    101082      60540          7]\n",
      " [     46288      50405          5]\n",
      " [    246196      44655          4]\n",
      " [     30845      44645          3]\n",
      " [    344480      43380         22]\n",
      " [    102098      43380          4]\n",
      " [    254782      43250         15]\n",
      " [    209590      43230          8]\n",
      " [    200097      43205          3]\n",
      " [    414465      43202          2]\n",
      " [     40993      43200          5]\n",
      " [    295914      43200          9]\n",
      " [    326069      43200          3]\n",
      " [     72203      43200          3]\n",
      " [    346169      43200         17]\n",
      " [    285910      41775          7]\n",
      " [     64709      40325          3]\n",
      " [    109063      36015          8]\n",
      " [    137027      34570          4]\n",
      " [    288653      34570          6]\n",
      " [    144367      34570          5]\n",
      " [    191140      30270          5]\n",
      " [     90536      30270          6]\n",
      " [     37202      30270          4]\n",
      " [    187480      30255          2]\n",
      " [    133994      30255          8]\n",
      " [    310374      30240          6]\n",
      " [    108917      28810          8]\n",
      " [    104976      28810          6]\n",
      " [    186746      26100          8]\n",
      " [    315022      23050          3]\n",
      " [    183432      21690          4]\n",
      " [    401460      21600          4]\n",
      " [    348132      21600         10]\n",
      " [    179670      20340         12]\n",
      " [    477929      20340         11]\n",
      " [     46390      20280         11]\n",
      " [     49738      20190          5]\n",
      " [    121433      20190          4]\n",
      " [    340621      20190          4]\n",
      " [    406267      20175          9]\n",
      " [    129227      20175         10]\n",
      " [    246663      20175          7]\n",
      " [    208298      20175         12]\n",
      " [    291096      20170          5]\n",
      " [    246355      20165          9]\n",
      " [    246348      20165          6]\n",
      " [    124818      20163          3]\n",
      " [    251532      20161          6]\n",
      " [    117582      20160          9]\n",
      " [     72355      20160          2]\n",
      " [    441587      20160          4]\n",
      " [     81105      20160         13]\n",
      " [     24478      20160          3]\n",
      " [     17490      20160          6]\n",
      " [     10004      18725          5]\n",
      " [     72549      18720         13]\n",
      " [     13904      17310          8]\n",
      " [     30101      15900          5]\n",
      " [    443929      15880          5]\n",
      " [    197469      14460         13]\n",
      " [    233539      14460         10]\n",
      " [     26995      14450         17]\n",
      " [    266032      14430          8]\n",
      " [    269245      14425          5]\n",
      " [    453387      14420          8]\n",
      " [    230796      14420          8]\n",
      " [     64793      14405          3]\n",
      " [    298229      11565          8]\n",
      " [    164029      11550         14]\n",
      " [    116809      11521          3]\n",
      " [    106876      11520          8]\n",
      " [     57721      10440         12]\n",
      " [     55411      10320          8]\n",
      " [    258854      10320         13]\n",
      " [    199925      10140          7]\n",
      " [    417539      10110          6]\n",
      " [    369728      10110          7]\n",
      " [     89339      10105          8]\n",
      " [    252450      10100          4]\n",
      " [    116645      10095          6]]\n"
     ]
    }
   ],
   "source": [
    "print(data[data[:, 1].argsort()][::-1][:100])"
   ]
  },
  {
   "cell_type": "markdown",
   "metadata": {},
   "source": [
    "10. Выберите случайным образом и выведите информацию о 10 различных рецептах"
   ]
  },
  {
   "cell_type": "code",
   "execution_count": 110,
   "metadata": {},
   "outputs": [
    {
     "name": "stdout",
     "output_type": "stream",
     "text": [
      "[[282762     25      6]\n",
      " [165084     55      6]\n",
      " [359035     20     10]\n",
      " [198017      1      5]\n",
      " [499768    137     13]\n",
      " [366999     10     11]\n",
      " [264584     90     11]\n",
      " [116011     30      4]\n",
      " [352904     20     14]\n",
      " [486098     80     14]]\n"
     ]
    }
   ],
   "source": [
    "random_indexes = np.random.randint(0, len(data), 10)\n",
    "print(data[random_indexes])"
   ]
  },
  {
   "cell_type": "markdown",
   "metadata": {},
   "source": [
    "11. Выведите процент рецептов, кол-во ингредиентов в которых меньше среднего."
   ]
  },
  {
   "cell_type": "code",
   "execution_count": 117,
   "metadata": {},
   "outputs": [
    {
     "name": "stdout",
     "output_type": "stream",
     "text": [
      "58.802\n"
     ]
    }
   ],
   "source": [
    "print((data[data[:, 2] < np.mean(data[:, 2])].size / data.size) * 100)"
   ]
  },
  {
   "cell_type": "markdown",
   "metadata": {},
   "source": [
    "12. Назовем \"простым\" такой рецепт, длительность выполнения которого не больше 20 минут и кол-во ингредиентов в котором не больше 5. Создайте версию датасета с дополнительным столбцом, значениями которого являются 1, если рецепт простой, и 0 в противном случае."
   ]
  },
  {
   "cell_type": "code",
   "execution_count": 139,
   "metadata": {},
   "outputs": [
    {
     "name": "stdout",
     "output_type": "stream",
     "text": [
      "[[446597     15      5      1]\n",
      " [204134      5      3      1]\n",
      " [ 25623      6      4      1]\n",
      " ...\n",
      " [ 60756     15      5      1]\n",
      " [128811     15      4      1]\n",
      " [370915      5      4      1]]\n"
     ]
    }
   ],
   "source": [
    "new_data = new_data[new_data[:,1] <= 20]\n",
    "a = np.array([1]*new_data[:,1].size).reshape(new_data[:,1].size, 1)\n",
    "new_data = np.append(new_data, a, axis=1)\n",
    "print(new_data)"
   ]
  },
  {
   "cell_type": "markdown",
   "metadata": {},
   "source": [
    "13. Выведите процент \"простых\" рецептов в датасете"
   ]
  },
  {
   "cell_type": "code",
   "execution_count": 141,
   "metadata": {},
   "outputs": [
    {
     "name": "stdout",
     "output_type": "stream",
     "text": [
      "9552\n"
     ]
    }
   ],
   "source": [
    "print(new_data[:,3].size)"
   ]
  },
  {
   "cell_type": "markdown",
   "metadata": {},
   "source": [
    "14. Разделим рецепты на группы по следующему правилу. Назовем рецепты короткими, если их продолжительность составляет менее 10 минут; стандартными, если их продолжительность составляет более 10, но менее 20 минут; и длинными, если их продолжительность составляет не менее 20 минут. Создайте трехмерный массив, где нулевая ось отвечает за номер группы (короткий, стандартный или длинный рецепт), первая ось - за сам рецепт и вторая ось - за характеристики рецепта. Выберите максимальное количество рецептов из каждой группы таким образом, чтобы было возможно сформировать трехмерный массив. Выведите форму полученного массива."
   ]
  },
  {
   "cell_type": "code",
   "execution_count": 142,
   "metadata": {},
   "outputs": [
    {
     "name": "stdout",
     "output_type": "stream",
     "text": [
      "[[[ 67660      5      6]\n",
      "  [366174      7      9]\n",
      "  [204134      5      3]\n",
      "  ...\n",
      "  [420725      5      3]\n",
      "  [  4747      0      9]\n",
      "  [370915      5      4]]\n",
      "\n",
      " [[ 94746     10      6]\n",
      "  [ 33941     18      9]\n",
      "  [446597     15      5]\n",
      "  ...\n",
      "  [  9831     15      7]\n",
      "  [335859     12     14]\n",
      "  [256812     10      3]]\n",
      "\n",
      " [[127244     60     16]\n",
      "  [ 23891     25      7]\n",
      "  [157911     60     14]\n",
      "  ...\n",
      "  [168901     25      7]\n",
      "  [392339     35     13]\n",
      "  [206732     45     10]]]\n",
      "(3, 7588, 3)\n"
     ]
    }
   ],
   "source": [
    "short = data[data[:, 1] < 10]\n",
    "standard = data[(data[:, 1] >= 10) & (data[:, 1] < 20)]\n",
    "long = data[data[:, 1] >= 20]\n",
    "\n",
    "max_len = min(len(short), len(standard), len(long)) #максимальное кол-во рецептов в каждой группе\n",
    "\n",
    "grouped_recipes = np.zeros((3, max_len, 3), dtype=int)\n",
    "grouped_recipes[0, :len(short[:max_len])] = short[:max_len]\n",
    "grouped_recipes[1, :len(standard[:max_len])] = standard[:max_len]\n",
    "grouped_recipes[2, :len(long[:max_len])] = long[:max_len]\n",
    "\n",
    "print(grouped_recipes)\n",
    "print(grouped_recipes.shape)"
   ]
  },
  {
   "cell_type": "code",
   "execution_count": null,
   "metadata": {},
   "outputs": [],
   "source": []
  }
 ],
 "metadata": {
  "kernelspec": {
   "display_name": "Python 3 (ipykernel)",
   "language": "python",
   "name": "python3"
  },
  "language_info": {
   "codemirror_mode": {
    "name": "ipython",
    "version": 3
   },
   "file_extension": ".py",
   "mimetype": "text/x-python",
   "name": "python",
   "nbconvert_exporter": "python",
   "pygments_lexer": "ipython3",
   "version": "3.11.5"
  }
 },
 "nbformat": 4,
 "nbformat_minor": 4
}
