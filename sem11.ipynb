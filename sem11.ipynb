{
 "cells": [
  {
   "cell_type": "code",
   "execution_count": 2,
   "id": "08fc418f",
   "metadata": {},
   "outputs": [
    {
     "ename": "IndentationError",
     "evalue": "unindent does not match any outer indentation level (<tokenize>, line 29)",
     "output_type": "error",
     "traceback": [
      "\u001b[1;36m  File \u001b[1;32m<tokenize>:29\u001b[1;36m\u001b[0m\n\u001b[1;33m    for i in statistic.items():\u001b[0m\n\u001b[1;37m    ^\u001b[0m\n\u001b[1;31mIndentationError\u001b[0m\u001b[1;31m:\u001b[0m unindent does not match any outer indentation level\n"
     ]
    }
   ],
   "source": [
    "import csv\n",
    "\n",
    " def stat(file_name, words=100):\n",
    "     statistic = {}\n",
    "     words_list = []\n",
    "     res=[]\n",
    "\n",
    "     def srt(arg):\n",
    "         return arg[1]\n",
    "\n",
    "     with open(file_name, 'r', encoding='utf-8') as f:\n",
    "         for c in list(f):\n",
    "             for j in c.split():\n",
    "                 words_list.append(j.strip('\\n!.?,'))\n",
    "\n",
    "         if type(words) == int:\n",
    "             for i in words_list[:words]:\n",
    "                 statistic[i] = statistic.get(i, 0) + 1\n",
    "\n",
    "             for i in statistic.items():\n",
    "                 res.append(i)\n",
    "             print(*sorted(res, key=srt, reverse=True), sep='\\n')\n",
    "\n",
    "\n",
    "         if type(words) == float:\n",
    "            for i in words_list[:100]:\n",
    "                 statistic[i] = statistic.get(i, 0) + 1\n",
    "\n",
    "             for i in statistic.items():\n",
    "                res.append(i)\n",
    "\n",
    "             with open(str(words), 'w', newline='') as csvfile:\n",
    "                 writer = csv.writer(csvfile)\n",
    "                 writer.writerows(res)\n",
    "\n",
    " stat('stat', 20)"
   ]
  },
  {
   "cell_type": "code",
   "execution_count": 3,
   "id": "61deae70",
   "metadata": {},
   "outputs": [
    {
     "name": "stdout",
     "output_type": "stream",
     "text": [
      "укыук\n"
     ]
    },
    {
     "ename": "FileNotFoundError",
     "evalue": "[Errno 2] No such file or directory: 'укыук'",
     "output_type": "error",
     "traceback": [
      "\u001b[1;31m---------------------------------------------------------------------------\u001b[0m",
      "\u001b[1;31mFileNotFoundError\u001b[0m                         Traceback (most recent call last)",
      "Cell \u001b[1;32mIn[3], line 33\u001b[0m\n\u001b[0;32m     30\u001b[0m         writer \u001b[38;5;241m=\u001b[39m csv\u001b[38;5;241m.\u001b[39mwriter(csvfile)\n\u001b[0;32m     31\u001b[0m         writer\u001b[38;5;241m.\u001b[39mwriterows(res)\n\u001b[1;32m---> 33\u001b[0m stat()\n",
      "Cell \u001b[1;32mIn[3], line 17\u001b[0m, in \u001b[0;36mstat\u001b[1;34m()\u001b[0m\n\u001b[0;32m     15\u001b[0m \u001b[38;5;28;01mif\u001b[39;00m file_name \u001b[38;5;241m==\u001b[39m \u001b[38;5;124m'\u001b[39m\u001b[38;5;124m'\u001b[39m:\n\u001b[0;32m     16\u001b[0m     \u001b[38;5;28;01mbreak\u001b[39;00m\n\u001b[1;32m---> 17\u001b[0m \u001b[38;5;28;01mwith\u001b[39;00m \u001b[38;5;28mopen\u001b[39m(file_name, \u001b[38;5;124m'\u001b[39m\u001b[38;5;124mr\u001b[39m\u001b[38;5;124m'\u001b[39m, encoding\u001b[38;5;241m=\u001b[39m\u001b[38;5;124m'\u001b[39m\u001b[38;5;124mutf-8\u001b[39m\u001b[38;5;124m'\u001b[39m) \u001b[38;5;28;01mas\u001b[39;00m f:\n\u001b[0;32m     18\u001b[0m     \u001b[38;5;28;01mfor\u001b[39;00m c \u001b[38;5;129;01min\u001b[39;00m \u001b[38;5;28mlist\u001b[39m(f):\n\u001b[0;32m     19\u001b[0m         \u001b[38;5;28;01mfor\u001b[39;00m j \u001b[38;5;129;01min\u001b[39;00m c\u001b[38;5;241m.\u001b[39msplit():\n",
      "File \u001b[1;32m~\\anaconda3\\Lib\\site-packages\\IPython\\core\\interactiveshell.py:286\u001b[0m, in \u001b[0;36m_modified_open\u001b[1;34m(file, *args, **kwargs)\u001b[0m\n\u001b[0;32m    279\u001b[0m \u001b[38;5;28;01mif\u001b[39;00m file \u001b[38;5;129;01min\u001b[39;00m {\u001b[38;5;241m0\u001b[39m, \u001b[38;5;241m1\u001b[39m, \u001b[38;5;241m2\u001b[39m}:\n\u001b[0;32m    280\u001b[0m     \u001b[38;5;28;01mraise\u001b[39;00m \u001b[38;5;167;01mValueError\u001b[39;00m(\n\u001b[0;32m    281\u001b[0m         \u001b[38;5;124mf\u001b[39m\u001b[38;5;124m\"\u001b[39m\u001b[38;5;124mIPython won\u001b[39m\u001b[38;5;124m'\u001b[39m\u001b[38;5;124mt let you open fd=\u001b[39m\u001b[38;5;132;01m{\u001b[39;00mfile\u001b[38;5;132;01m}\u001b[39;00m\u001b[38;5;124m by default \u001b[39m\u001b[38;5;124m\"\u001b[39m\n\u001b[0;32m    282\u001b[0m         \u001b[38;5;124m\"\u001b[39m\u001b[38;5;124mas it is likely to crash IPython. If you know what you are doing, \u001b[39m\u001b[38;5;124m\"\u001b[39m\n\u001b[0;32m    283\u001b[0m         \u001b[38;5;124m\"\u001b[39m\u001b[38;5;124myou can use builtins\u001b[39m\u001b[38;5;124m'\u001b[39m\u001b[38;5;124m open.\u001b[39m\u001b[38;5;124m\"\u001b[39m\n\u001b[0;32m    284\u001b[0m     )\n\u001b[1;32m--> 286\u001b[0m \u001b[38;5;28;01mreturn\u001b[39;00m io_open(file, \u001b[38;5;241m*\u001b[39margs, \u001b[38;5;241m*\u001b[39m\u001b[38;5;241m*\u001b[39mkwargs)\n",
      "\u001b[1;31mFileNotFoundError\u001b[0m: [Errno 2] No such file or directory: 'укыук'"
     ]
    }
   ],
   "source": [
    " import csv\n",
    "\n",
    " def stat():\n",
    "     statistic = {}\n",
    "     words_list = []\n",
    "     res=[]\n",
    "     file_name = None\n",
    "\n",
    "     def srt(arg):\n",
    "         return arg[1]\n",
    "\n",
    "\n",
    "     while True:\n",
    "         file_name = input()\n",
    "         if file_name == '':\n",
    "             break\n",
    "         with open(file_name, 'r', encoding='utf-8') as f:\n",
    "             for c in list(f):\n",
    "                 for j in c.split():\n",
    "                     words_list.append(j.strip('\\n!.?,'))\n",
    "\n",
    "         for i in words_list[:100]:\n",
    "             statistic[i] = statistic.get(i, 0) + 1\n",
    "\n",
    "         for i in statistic.items():\n",
    "             res.append(i)\n",
    "\n",
    "     print('Введите имя создоваемого файла:')\n",
    "     with open(str(input()), 'w', newline='') as csvfile:\n",
    "         writer = csv.writer(csvfile)\n",
    "         writer.writerows(res)\n",
    "\n",
    " stat()"
   ]
  },
  {
   "cell_type": "code",
   "execution_count": null,
   "id": "be867824",
   "metadata": {},
   "outputs": [],
   "source": []
  }
 ],
 "metadata": {
  "kernelspec": {
   "display_name": "Python 3 (ipykernel)",
   "language": "python",
   "name": "python3"
  },
  "language_info": {
   "codemirror_mode": {
    "name": "ipython",
    "version": 3
   },
   "file_extension": ".py",
   "mimetype": "text/x-python",
   "name": "python",
   "nbconvert_exporter": "python",
   "pygments_lexer": "ipython3",
   "version": "3.11.5"
  }
 },
 "nbformat": 4,
 "nbformat_minor": 5
}
