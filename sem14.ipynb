{
 "cells": [
  {
   "cell_type": "code",
   "execution_count": 35,
   "id": "fc71d3d7",
   "metadata": {},
   "outputs": [],
   "source": [
    "from time import time\n",
    "import numpy as np\n",
    "\n",
    "class Sort(object):\n",
    "    def __init__(self):\n",
    "        self.__example = []\n",
    "\n",
    "    @property\n",
    "    def output(self):\n",
    "        return self.__example\n",
    "\n",
    "    def random_list(self, lenght):\n",
    "        self.__example = np.random.randint(-1000, 1000, lenght)\n",
    "        return self.__example\n",
    "\n",
    "    def sorted_list(self, list_):\n",
    "        return self.bubble_sort_for(list_)[0]\n",
    "\n",
    "    def reversed_sorted_list(self, list_):\n",
    "        return self.bubble_sort_for(list_)[0][::-1]\n",
    "\n",
    "    def partially_sorted_list(self, list_):\n",
    "        intermediate_list = sorted(list_)[:-(len(list_) // 10)]\n",
    "        additional_list = np.random.randint(-1000, 1000, len(list_) // 10)\n",
    "        return np.append(intermediate_list, additional_list)\n",
    "\n",
    "    def bubble_sort_while(self, list_):\n",
    "        index, flag = 0, False\n",
    "        start_time = time()\n",
    "        while True:\n",
    "            if index == len(list_) - 1 and flag == True:\n",
    "                index, flag = 0, False\n",
    "            if index == len(list_) - 2 and flag == False:\n",
    "                break\n",
    "            if list_[index] > list_[index + 1]:\n",
    "                list_[index], list_[index + 1] = list_[index + 1], list_[index]\n",
    "                flag = True\n",
    "            index += 1\n",
    "        end_time = time()\n",
    "        return list_, end_time - start_time\n",
    "\n",
    "    def bubble_sort_for(self, list_):\n",
    "        start_time = time()\n",
    "        for i in range(len(list_)):\n",
    "            for j in range(len(list_) - i - 1):\n",
    "                if list_[j] > list_[j + 1]:\n",
    "                    list_[j], list_[j + 1] = list_[j + 1], list_[j]\n",
    "        end_time = time()\n",
    "        return list_, end_time - start_time\n",
    "\n",
    "    def rock_bubble_sort(self, list_):\n",
    "        left_side, right_side = 0, len(list_) - 1\n",
    "\n",
    "        start_time = time()\n",
    "\n",
    "        while left_side < right_side:\n",
    "            for i in range(right_side):\n",
    "                if list_[i] > list_[i + 1]:\n",
    "                    list_[i], list_[i + 1] = list_[i + 1], list_[i]\n",
    "            right_side -= 1\n",
    "\n",
    "            for i in range(right_side, left_side + 1, -1):\n",
    "                if list_[i] < list_[i - 1]:\n",
    "                    list_[i], list_[i - 1] = list_[i - 1], list_[i]\n",
    "            left_side += 1\n",
    "\n",
    "        end_time = time()\n",
    "        return list_, end_time - start_time\n",
    "\n",
    "    def quick_sort(self, list_):\n",
    "        if len(list_) <= 1:\n",
    "            return list_\n",
    "\n",
    "        else:\n",
    "            central = list_[0]\n",
    "            left_side = [element for element in list_ if element < central]\n",
    "            right_side = [element for element in list_ if element > central]\n",
    "            return self.quick_sort(left_side) + [central] + self.quick_sort(right_side)\n",
    "    \n",
    "    def quick_sort_for_sorted(self, list_):\n",
    "        if len(list_) <= 1:\n",
    "            return list_\n",
    "\n",
    "        else:\n",
    "            central = list_[len(list_) // 2]\n",
    "            left_side = [element for element in list_ if element < central]\n",
    "            right_side = [element for element in list_ if element > central]\n",
    "            return self.quick_sort(left_side) + [central] + self.quick_sort(right_side)\n",
    "    \n",
    "    def selection_sort(self, list_):\n",
    "        for i in range(len(list_)):\n",
    "            largest = i\n",
    "            for j in range(i + 1, len(list_)):\n",
    "                if list_[j] > list_[largest]:\n",
    "                    largest = j\n",
    "            list_[i], list_[largest] = list_[largest], list_[i]\n",
    "        return list_\n",
    "    \n",
    "    def modified_selection_sort(self, list_):\n",
    "        for i in range(len(list_) - 1, 0, -1):\n",
    "            largest = i\n",
    "            for j in range(i - 1, 0, -1):\n",
    "                if list_[j] > list_[largest]:\n",
    "                    largest = j\n",
    "            list_[i], list_[largest] = list_[largest], list_[i]\n",
    "        return list_\n",
    "\n",
    "\n",
    "\n",
    "\n",
    "# print(example.bubble_sort_while(random_example))\n",
    "# print(example.bubble_sort_for(random_example))"
   ]
  },
  {
   "cell_type": "code",
   "execution_count": 36,
   "id": "18c7cb70",
   "metadata": {},
   "outputs": [],
   "source": [
    "example = Sort()"
   ]
  },
  {
   "cell_type": "markdown",
   "id": "d4a01208",
   "metadata": {},
   "source": [
    "# №10"
   ]
  },
  {
   "cell_type": "markdown",
   "id": "b57e6a52",
   "metadata": {},
   "source": [
    "Написать 4 функции порождения списка целых значений: отсортированного (по возрастанию и убыванию), случайного и почти отсортированного по возрастанию. Каждая функция принимает длину списка в качестве аргумента."
   ]
  },
  {
   "cell_type": "code",
   "execution_count": 3,
   "id": "7b295068",
   "metadata": {},
   "outputs": [
    {
     "data": {
      "text/plain": [
       "array([ 137,  376, -851,  431, -684,  456,  135, -458, -240,  953,  646,\n",
       "       -810, -313,  493,  362,  -82, -714,  418,  510,  425])"
      ]
     },
     "execution_count": 3,
     "metadata": {},
     "output_type": "execute_result"
    }
   ],
   "source": [
    "random_example = example.random_list(20)\n",
    "random_example"
   ]
  },
  {
   "cell_type": "code",
   "execution_count": 4,
   "id": "96f81089",
   "metadata": {},
   "outputs": [
    {
     "data": {
      "text/plain": [
       "array([-851, -810, -714, -684, -458, -313, -240,  -82,  135,  137,  362,\n",
       "        376,  418,  425,  431,  456,  493,  510,  646,  953])"
      ]
     },
     "execution_count": 4,
     "metadata": {},
     "output_type": "execute_result"
    }
   ],
   "source": [
    "example.sorted_list(random_example)"
   ]
  },
  {
   "cell_type": "code",
   "execution_count": 5,
   "id": "31d05ef2",
   "metadata": {},
   "outputs": [
    {
     "data": {
      "text/plain": [
       "array([ 953,  646,  510,  493,  456,  431,  425,  418,  376,  362,  137,\n",
       "        135,  -82, -240, -313, -458, -684, -714, -810, -851])"
      ]
     },
     "execution_count": 5,
     "metadata": {},
     "output_type": "execute_result"
    }
   ],
   "source": [
    "example.reversed_sorted_list(random_example)"
   ]
  },
  {
   "cell_type": "code",
   "execution_count": 6,
   "id": "9f8c6d1b",
   "metadata": {},
   "outputs": [
    {
     "data": {
      "text/plain": [
       "array([ 953,  646,  510,  493,  456,  431,  425,  418,  376,  362,  137,\n",
       "        135,  -82, -240, -313, -458, -684, -714, -810, -851])"
      ]
     },
     "execution_count": 6,
     "metadata": {},
     "output_type": "execute_result"
    }
   ],
   "source": [
    "example.reversed_sorted_list(random_example)"
   ]
  },
  {
   "cell_type": "code",
   "execution_count": 7,
   "id": "5b8ae16d",
   "metadata": {},
   "outputs": [
    {
     "data": {
      "text/plain": [
       "array([-851, -810, -714, -684, -458, -313, -240,  -82,  135,  137,  362,\n",
       "        376,  418,  425,  431,  456,  493,  510,  328,  603])"
      ]
     },
     "execution_count": 7,
     "metadata": {},
     "output_type": "execute_result"
    }
   ],
   "source": [
    "example.partially_sorted_list(random_example)"
   ]
  },
  {
   "cell_type": "markdown",
   "id": "66d869fb",
   "metadata": {},
   "source": [
    "# №12"
   ]
  },
  {
   "cell_type": "markdown",
   "id": "877703a4",
   "metadata": {},
   "source": [
    "Реализовать модификацию сортировки пузырьком: \"камешек-пузырек\" - с чередующимися проходами, приводящими к \"всплытию\" самого большого значения списка и \"погружению\" самого маленького значения из неотсортированной части списка."
   ]
  },
  {
   "cell_type": "code",
   "execution_count": 8,
   "id": "1a623ace",
   "metadata": {},
   "outputs": [
    {
     "data": {
      "text/plain": [
       "array([-851, -810, -714, -684, -458, -313, -240,  -82,  135,  137,  362,\n",
       "        376,  418,  425,  431,  456,  493,  510,  646,  953])"
      ]
     },
     "execution_count": 8,
     "metadata": {},
     "output_type": "execute_result"
    }
   ],
   "source": [
    "example.rock_bubble_sort(random_example)[0]"
   ]
  },
  {
   "cell_type": "markdown",
   "id": "8adf8fc6",
   "metadata": {},
   "source": [
    "# №14"
   ]
  },
  {
   "cell_type": "markdown",
   "id": "0a657d05",
   "metadata": {},
   "source": [
    "Реализовать модификацию сортировки пузырьком: \"камешек-пузырек\" - с чередующимися проходами, приводящими к \"всплытию\" самого большого значения списка и \"погружению\" самого маленького значения из неотсортированной части списка."
   ]
  },
  {
   "cell_type": "markdown",
   "id": "9c88b133",
   "metadata": {},
   "source": [
    "bubble_sort_for - сортировка пузырьком реализованная в классическом ее представлении"
   ]
  },
  {
   "cell_type": "markdown",
   "id": "5a415e54",
   "metadata": {},
   "source": [
    "случайный список"
   ]
  },
  {
   "cell_type": "code",
   "execution_count": 9,
   "id": "bd33e641",
   "metadata": {},
   "outputs": [
    {
     "name": "stdout",
     "output_type": "stream",
     "text": [
      "19.51309895515442\n"
     ]
    }
   ],
   "source": [
    "start_time = time()\n",
    "example.bubble_sort_for(example.random_list(10000))\n",
    "end_time = time()\n",
    "print(end_time - start_time)"
   ]
  },
  {
   "cell_type": "markdown",
   "id": "61850c40",
   "metadata": {},
   "source": [
    "сортированный список"
   ]
  },
  {
   "cell_type": "code",
   "execution_count": 10,
   "id": "1d21b5ee",
   "metadata": {},
   "outputs": [
    {
     "name": "stdout",
     "output_type": "stream",
     "text": [
      "4.585827112197876\n"
     ]
    }
   ],
   "source": [
    "test_time = sorted(example.random_list(10000))\n",
    "start_time = time()\n",
    "example.bubble_sort_for(test_time)\n",
    "end_time = time()\n",
    "print(end_time - start_time)"
   ]
  },
  {
   "cell_type": "markdown",
   "id": "1b291535",
   "metadata": {},
   "source": [
    "реверсд отсортированный список"
   ]
  },
  {
   "cell_type": "code",
   "execution_count": 11,
   "id": "765bd1c7",
   "metadata": {},
   "outputs": [
    {
     "name": "stdout",
     "output_type": "stream",
     "text": [
      "10.49413251876831\n"
     ]
    }
   ],
   "source": [
    "test_time = sorted(example.random_list(10000))[::-1]\n",
    "start_time = time()\n",
    "example.bubble_sort_for(test_time)\n",
    "end_time = time()\n",
    "print(end_time - start_time)"
   ]
  },
  {
   "cell_type": "markdown",
   "id": "ddce347f",
   "metadata": {},
   "source": [
    "частично отсортированный список"
   ]
  },
  {
   "cell_type": "code",
   "execution_count": 12,
   "id": "3e895653",
   "metadata": {},
   "outputs": [
    {
     "name": "stdout",
     "output_type": "stream",
     "text": [
      "0.8208422660827637\n"
     ]
    }
   ],
   "source": [
    "test_time = example.partially_sorted_list(example.random_list(10000))\n",
    "start_time = time()\n",
    "example.quick_sort(test_time)\n",
    "end_time = time()\n",
    "print(end_time - start_time)"
   ]
  },
  {
   "cell_type": "markdown",
   "id": "524a3bff",
   "metadata": {},
   "source": [
    "rock_bubble_sort - сортировка камешек - пузырек реализованная в импровизированным мной представлением"
   ]
  },
  {
   "cell_type": "markdown",
   "id": "24431ba0",
   "metadata": {},
   "source": [
    "случайный список"
   ]
  },
  {
   "cell_type": "code",
   "execution_count": 13,
   "id": "3646a34b",
   "metadata": {},
   "outputs": [
    {
     "name": "stdout",
     "output_type": "stream",
     "text": [
      "21.205727577209473\n"
     ]
    }
   ],
   "source": [
    "start_time = time()\n",
    "example.rock_bubble_sort(example.random_list(10000))\n",
    "end_time = time()\n",
    "print(end_time - start_time)"
   ]
  },
  {
   "cell_type": "markdown",
   "id": "730c1807",
   "metadata": {},
   "source": [
    "отсортированный список"
   ]
  },
  {
   "cell_type": "code",
   "execution_count": 14,
   "id": "3178669d",
   "metadata": {},
   "outputs": [
    {
     "name": "stdout",
     "output_type": "stream",
     "text": [
      "5.807560682296753\n"
     ]
    }
   ],
   "source": [
    "test_time = sorted(example.random_list(10000))\n",
    "start_time = time()\n",
    "example.rock_bubble_sort(test_time)\n",
    "end_time = time()\n",
    "print(end_time - start_time)"
   ]
  },
  {
   "cell_type": "markdown",
   "id": "c89897c8",
   "metadata": {},
   "source": [
    "реверсд отсортированный список"
   ]
  },
  {
   "cell_type": "code",
   "execution_count": 15,
   "id": "d8352a79",
   "metadata": {},
   "outputs": [
    {
     "name": "stdout",
     "output_type": "stream",
     "text": [
      "12.269426345825195\n"
     ]
    }
   ],
   "source": [
    "test_time = sorted(example.random_list(10000))[::-1]\n",
    "start_time = time()\n",
    "example.rock_bubble_sort(test_time)\n",
    "end_time = time()\n",
    "print(end_time - start_time)"
   ]
  },
  {
   "cell_type": "markdown",
   "id": "5a59e939",
   "metadata": {},
   "source": [
    "частично отсортированный список"
   ]
  },
  {
   "cell_type": "code",
   "execution_count": 16,
   "id": "325097b2",
   "metadata": {},
   "outputs": [
    {
     "name": "stdout",
     "output_type": "stream",
     "text": [
      "15.355230569839478\n"
     ]
    }
   ],
   "source": [
    "test_time = example.partially_sorted_list(example.random_list(10000))\n",
    "start_time = time()\n",
    "example.rock_bubble_sort(test_time)\n",
    "end_time = time()\n",
    "print(end_time - start_time)"
   ]
  },
  {
   "cell_type": "markdown",
   "id": "af5efb18",
   "metadata": {},
   "source": [
    "# №16"
   ]
  },
  {
   "cell_type": "markdown",
   "id": "9be6fd69",
   "metadata": {},
   "source": [
    "Реализовать быструю сортировку с возможностью подсчета операций. Сравнить производительность алгоритма на случайных и упорядоченных (и почти упорядоченных) данных."
   ]
  },
  {
   "cell_type": "code",
   "execution_count": 17,
   "id": "25e0822a",
   "metadata": {
    "scrolled": true
   },
   "outputs": [
    {
     "name": "stdout",
     "output_type": "stream",
     "text": [
      "[-851, -810, -714, -684, -458, -313, -240, -82, 135, 137, 362, 376, 418, 425, 431, 456, 493, 510, 646, 953]\n"
     ]
    }
   ],
   "source": [
    "print(example.quick_sort(random_example))"
   ]
  },
  {
   "cell_type": "markdown",
   "id": "a8d0ce1a",
   "metadata": {},
   "source": [
    "случайный список"
   ]
  },
  {
   "cell_type": "code",
   "execution_count": 18,
   "id": "0edc0e04",
   "metadata": {},
   "outputs": [
    {
     "name": "stdout",
     "output_type": "stream",
     "text": [
      "0.132645845413208\n"
     ]
    }
   ],
   "source": [
    "start_time = time()\n",
    "example.quick_sort(example.random_list(100000))\n",
    "end_time = time()\n",
    "print(end_time - start_time)"
   ]
  },
  {
   "cell_type": "markdown",
   "id": "b25b579b",
   "metadata": {},
   "source": [
    "отсортированный список"
   ]
  },
  {
   "cell_type": "code",
   "execution_count": 19,
   "id": "f415eab0",
   "metadata": {},
   "outputs": [
    {
     "name": "stdout",
     "output_type": "stream",
     "text": [
      "14.657094240188599\n"
     ]
    }
   ],
   "source": [
    "test_time = sorted(example.random_list(100000))\n",
    "start_time = time()\n",
    "example.quick_sort(test_time)\n",
    "end_time = time()\n",
    "print(end_time - start_time)"
   ]
  },
  {
   "cell_type": "markdown",
   "id": "8bb57d5f",
   "metadata": {},
   "source": [
    "реверсд отсортированный список"
   ]
  },
  {
   "cell_type": "code",
   "execution_count": 20,
   "id": "89f21a5c",
   "metadata": {},
   "outputs": [
    {
     "name": "stdout",
     "output_type": "stream",
     "text": [
      "14.168990850448608\n"
     ]
    }
   ],
   "source": [
    "test_time = sorted(example.random_list(100000))[::-1]\n",
    "start_time = time()\n",
    "example.quick_sort(test_time)\n",
    "end_time = time()\n",
    "print(end_time - start_time)"
   ]
  },
  {
   "cell_type": "markdown",
   "id": "dd8bbcb6",
   "metadata": {},
   "source": [
    "частично отсортированный список"
   ]
  },
  {
   "cell_type": "code",
   "execution_count": 21,
   "id": "5b94e1ee",
   "metadata": {},
   "outputs": [
    {
     "name": "stdout",
     "output_type": "stream",
     "text": [
      "9.176163673400879\n"
     ]
    }
   ],
   "source": [
    "test_time = example.partially_sorted_list(example.random_list(100000))\n",
    "start_time = time()\n",
    "example.quick_sort(test_time)\n",
    "end_time = time()\n",
    "print(end_time - start_time)"
   ]
  },
  {
   "cell_type": "markdown",
   "id": "1a702154",
   "metadata": {},
   "source": [
    "# №17"
   ]
  },
  {
   "cell_type": "markdown",
   "id": "926c601b",
   "metadata": {},
   "source": [
    "Улучшить работу быстрой сортировки на упорядоченных и почти упорядоченных за счет изменения алгоритма выбора элемента для разделения массива."
   ]
  },
  {
   "cell_type": "markdown",
   "id": "2118f2bd",
   "metadata": {},
   "source": [
    "изначально идея реализации быстрой сортировки заключается в выборе элемента, относительно которого слева и справа образуются списки больших и меньших значений, и чем больше рекурсий будет(то бишь надо выбрать средний по значению элемент), тем быстрее выполнится сортировка"
   ]
  },
  {
   "cell_type": "code",
   "execution_count": 22,
   "id": "a4578f4b",
   "metadata": {},
   "outputs": [
    {
     "name": "stdout",
     "output_type": "stream",
     "text": [
      "6.810963869094849\n"
     ]
    }
   ],
   "source": [
    "test_time = sorted(example.random_list(100000))\n",
    "start_time = time()\n",
    "example.quick_sort_for_sorted(test_time)\n",
    "end_time = time()\n",
    "print(end_time - start_time)"
   ]
  },
  {
   "cell_type": "markdown",
   "id": "6cd43d34",
   "metadata": {},
   "source": [
    "# №15"
   ]
  },
  {
   "cell_type": "code",
   "execution_count": 31,
   "id": "0d8033bb",
   "metadata": {},
   "outputs": [
    {
     "name": "stdout",
     "output_type": "stream",
     "text": [
      "9.501111507415771\n"
     ]
    }
   ],
   "source": [
    "test_time = example.random_list(10000)\n",
    "start_time = time()\n",
    "example.selection_sort(test_time)\n",
    "end_time = time()\n",
    "print(end_time - start_time)"
   ]
  },
  {
   "cell_type": "code",
   "execution_count": 32,
   "id": "6696023e",
   "metadata": {},
   "outputs": [
    {
     "name": "stdout",
     "output_type": "stream",
     "text": [
      "3.3829569816589355\n"
     ]
    }
   ],
   "source": [
    "test_time = sorted(example.random_list(10000))\n",
    "start_time = time()\n",
    "example.selection_sort(test_time)\n",
    "end_time = time()\n",
    "print(end_time - start_time)"
   ]
  },
  {
   "cell_type": "code",
   "execution_count": 37,
   "id": "877c7e77",
   "metadata": {},
   "outputs": [
    {
     "name": "stdout",
     "output_type": "stream",
     "text": [
      "9.5844087600708\n"
     ]
    }
   ],
   "source": [
    "test_time = example.random_list(10000)\n",
    "start_time = time()\n",
    "example.modified_selection_sort(test_time)\n",
    "end_time = time()\n",
    "print(end_time - start_time)"
   ]
  },
  {
   "cell_type": "code",
   "execution_count": 38,
   "id": "6a3256ec",
   "metadata": {},
   "outputs": [
    {
     "name": "stdout",
     "output_type": "stream",
     "text": [
      "3.528132915496826\n"
     ]
    }
   ],
   "source": [
    "test_time = sorted(example.random_list(10000))\n",
    "start_time = time()\n",
    "example.modified_selection_sort(test_time)\n",
    "end_time = time()\n",
    "print(end_time - start_time)"
   ]
  },
  {
   "cell_type": "code",
   "execution_count": null,
   "id": "df7e5c3a",
   "metadata": {},
   "outputs": [],
   "source": []
  }
 ],
 "metadata": {
  "kernelspec": {
   "display_name": "Python 3 (ipykernel)",
   "language": "python",
   "name": "python3"
  },
  "language_info": {
   "codemirror_mode": {
    "name": "ipython",
    "version": 3
   },
   "file_extension": ".py",
   "mimetype": "text/x-python",
   "name": "python",
   "nbconvert_exporter": "python",
   "pygments_lexer": "ipython3",
   "version": "3.11.5"
  }
 },
 "nbformat": 4,
 "nbformat_minor": 5
}
