{
 "cells": [
  {
   "cell_type": "markdown",
   "metadata": {},
   "source": [
    "# Работа со строковыми значениями"
   ]
  },
  {
   "cell_type": "markdown",
   "metadata": {},
   "source": [
    "## Задачи для совместного разбора"
   ]
  },
  {
   "cell_type": "markdown",
   "metadata": {},
   "source": [
    "1. Вывести на экран данные из словаря `obj` построчно в виде `k = v`, задав формат таким образом, чтобы знак равенства оказался на одной и той же позиции во всех строках. Строковые литералы обернуть в кавычки."
   ]
  },
  {
   "cell_type": "code",
   "execution_count": 8,
   "metadata": {},
   "outputs": [
    {
     "name": "stdout",
     "output_type": "stream",
     "text": [
      "home_page = https://github.com/pypa/sampleproject\n",
      "keywords  =         sample setuptools development\n",
      "license   =                                   MIT\n"
     ]
    }
   ],
   "source": [
    "obj = {\n",
    "    \"home_page\": \"https://github.com/pypa/sampleproject\",\n",
    "    \"keywords\": \"sample setuptools development\",\n",
    "    \"license\": \"MIT\",\n",
    "}\n",
    "for i, j in obj.items():\n",
    "    print(f'{i: <9} = {j: >37}')"
   ]
  },
  {
   "cell_type": "markdown",
   "metadata": {},
   "source": [
    "2. Написать регулярное выражение,которое позволит найти номера групп студентов."
   ]
  },
  {
   "cell_type": "code",
   "execution_count": 9,
   "metadata": {},
   "outputs": [
    {
     "name": "stdout",
     "output_type": "stream",
     "text": [
      "['19-1']\n",
      "['20-4']\n",
      "['20-3']\n"
     ]
    }
   ],
   "source": [
    "import pandas as pd\n",
    "import re\n",
    "obj = pd.Series([\"Евгения гр.ПМ19-1\", \"Илья пм 20-4\", \"Анна 20-3\"])\n",
    "p = re.compile(r'[12][09][-][1-4]')\n",
    "for i in obj:\n",
    "    print(p.findall(i))"
   ]
  },
  {
   "cell_type": "markdown",
   "metadata": {},
   "source": [
    "3. Разбейте текст формулировки задачи 2 на слова."
   ]
  },
  {
   "cell_type": "code",
   "execution_count": 10,
   "metadata": {},
   "outputs": [
    {
     "data": {
      "text/plain": [
       "['Написать',\n",
       " 'регулярное',\n",
       " 'выражение',\n",
       " 'которое',\n",
       " 'позволит',\n",
       " 'найти',\n",
       " 'номера',\n",
       " 'групп',\n",
       " 'студентов']"
      ]
     },
     "execution_count": 10,
     "metadata": {},
     "output_type": "execute_result"
    }
   ],
   "source": [
    "p=re.compile(r'[а-я]{1,}', re.I)\n",
    "s='Написать регулярное выражение,которое позволит найти номера групп студентов.'\n",
    "p.findall(s)"
   ]
  },
  {
   "cell_type": "markdown",
   "metadata": {},
   "source": [
    "## Лабораторная работа 6"
   ]
  },
  {
   "cell_type": "markdown",
   "metadata": {},
   "source": [
    "### Форматирование строк"
   ]
  },
  {
   "cell_type": "markdown",
   "metadata": {},
   "source": [
    "1\\. Загрузите данные из файла `recipes_sample.csv` (__ЛР2__) в виде `pd.DataFrame` `recipes` При помощи форматирования строк выведите информацию об id рецепта и времени выполнения 5 случайных рецептов в виде таблицы следующего вида:\n",
    "\n",
    "    \n",
    "    |      id      |  minutes  |\n",
    "    |--------------------------|\n",
    "    |    61178     |    65     |\n",
    "    |    202352    |    80     |\n",
    "    |    364322    |    150    |\n",
    "    |    26177     |    20     |\n",
    "    |    224785    |    35     |\n",
    "    \n",
    "Обратите внимание, что ширина столбцов заранее неизвестна и должна рассчитываться динамически, в зависимости от тех данных, которые были выбраны. "
   ]
  },
  {
   "cell_type": "code",
   "execution_count": 53,
   "metadata": {},
   "outputs": [
    {
     "name": "stdout",
     "output_type": "stream",
     "text": [
      "|     id     |  minutes  |\n",
      "|------------------------|\n",
      "|   312871   |    150    |\n",
      "|   316029   |    70     |\n",
      "|   341023   |    60     |\n",
      "|   333213   |    30     |\n",
      "|   401411   |    25     |\n"
     ]
    }
   ],
   "source": [
    "import random as rd\n",
    "recipes = pd.read_csv('recipes_sample.csv')\n",
    "len_id = max(list(len(str(i)) for i in recipes['id']))+6\n",
    "len_minutes = 11\n",
    "s1='id'\n",
    "s2='minutes'\n",
    "print(f'|{s1: ^{len_id}}|{s2: ^{len_minutes}}|')\n",
    "print('|'+'-'*(len_id+len_minutes+1)+'|')\n",
    "for i in rd.sample(range(0, len(recipes)), 5):\n",
    "    k1=recipes['id'][i]\n",
    "    k2=recipes['minutes'][i]\n",
    "    print(f'|{k1: ^{len_id}}|{k2: ^{len_minutes}}|')"
   ]
  },
  {
   "cell_type": "markdown",
   "metadata": {},
   "source": [
    "2\\. Напишите функцию `show_info`, которая по данным о рецепте создает строку (в смысле объекта python) с описанием следующего вида:\n",
    "\n",
    "```\n",
    "\"Название Из Нескольких Слов\"\n",
    "\n",
    "1. Шаг 1\n",
    "2. Шаг 2\n",
    "----------\n",
    "Автор: contributor_id\n",
    "Среднее время приготовления: minutes минут\n",
    "```\n",
    "\n",
    "    \n",
    "Данные для создания строки получите из файлов `recipes_sample.csv` (__ЛР2__) и `steps_sample.xml` (__ЛР3__). \n",
    "Вызовите данную функцию для рецепта с id `170895` и выведите (через `print`) полученную строку на экран."
   ]
  },
  {
   "cell_type": "code",
   "execution_count": 54,
   "metadata": {},
   "outputs": [
    {
     "name": "stdout",
     "output_type": "stream",
     "text": [
      "\"Leeks And Parsnips  Sauteed Or Creamed\"\n",
      "1.    clean the leeks and discard the dark green portions\n",
      "2.    cut the leeks lengthwise then into one-inch pieces\n",
      "3.    melt the butter in a medium skillet , med\n",
      "4.    heat\n",
      "5.    add the garlic and fry 'til fragrant\n",
      "6.    add leeks and fry until the leeks are tender , about 6-minutes\n",
      "7.    meanwhile , peel and chunk the parsnips into one-inch pieces\n",
      "8.    place in a steaming basket and steam 'til they are as tender as you prefer\n",
      "9.    i like them fork-tender\n",
      "10.    drain parsnips and add to the skillet with the leeks\n",
      "11.    add salt and pepper\n",
      "12.    gently sautee together for 5-minutes\n",
      "13.    at this point you can serve it , or continue on and cream it:\n",
      "14.    in a jar with a screw top , add the half-n-half and arrowroot\n",
      "15.    shake 'til blended\n",
      "16.    turn heat to low under the leeks and parsnips\n",
      "17.    pour in the arrowroot mixture , stirring gently as you pour\n",
      "18.    if too thick , gradually add the water\n",
      "19.    let simmer for a couple of minutes\n",
      "20.    taste to adjust seasoning , probably an additional 1 / 2 teaspoon salt\n",
      "21.    serve warm\n",
      "----------\n",
      "Автор: 8377\n",
      "Среднее время приготовления: 27 минут\n",
      "\n",
      "\n"
     ]
    }
   ],
   "source": [
    "import xml.etree.ElementTree as ET\n",
    "\n",
    "def show_info(recipe_id):\n",
    "    global name, steps, minutes, author\n",
    "    name=recipes.loc[recipes['id'] == recipe_id, 'name'].iloc[0].title()\n",
    "    minutes=recipes.loc[recipes['id'] == recipe_id, 'minutes'].iloc[0]\n",
    "    author_id=recipes.loc[recipes['id'] == recipe_id, 'contributor_id'].iloc[0]\n",
    "    steps={}\n",
    "    for i in range(len(recept_dict[str(recipe_id)])):\n",
    "        steps[str(i+1)+'.    ']=recept_dict[str(recipe_id)][i]\n",
    "    print(f'\"{name}\"')\n",
    "    for i, j in steps.items():\n",
    "        print(f'{i}{j}')\n",
    "    print(f'----------\\nАвтор: {author_id}\\nСреднее время приготовления: {minutes} минут\\n')\n",
    "\n",
    "tree = ET.parse('steps_sample.xml')\n",
    "root = tree.getroot()\n",
    "recept_dict={}\n",
    "for i in range(len(root)):\n",
    "    steps_list=[]\n",
    "    for j in root[i][1]:\n",
    "        steps_list.append(j.text)\n",
    "    recept_dict[root[i][0].text]=steps_list\n",
    "\n",
    "show_info(170895)\n",
    "print()"
   ]
  },
  {
   "cell_type": "markdown",
   "metadata": {},
   "source": [
    "## Работа с регулярными выражениями"
   ]
  },
  {
   "cell_type": "markdown",
   "metadata": {},
   "source": [
    "3\\. Напишите регулярное выражение, которое ищет следующий паттерн в строке: число (1 цифра или более), затем пробел, затем слова: hour или hours или minute или minutes. Произведите поиск по данному регулярному выражению в каждом шаге рецепта с id 25082. Выведите на экран все непустые результаты, найденные по данному шаблону."
   ]
  },
  {
   "cell_type": "code",
   "execution_count": 35,
   "metadata": {},
   "outputs": [
    {
     "name": "stdout",
     "output_type": "stream",
     "text": [
      "\"Basic Whole Wheat Bread\"\n",
      "1.    proof yeast in half a cup of the water , with about a teaspoon of flour- let it sit , covered , until it becomes bubbly& active\n",
      "2.    combine the rest of the water with the yeast / water in a large bowl , and gradually add about half of the flour\n",
      "3.    stir the mixture about 100 times in the same direction , until it is well-mixed and strands are beginning to form\n",
      "4.    stir in the salt and oil\n",
      "5.    add the remaining flour half a cup at a time , stirring well , until it is too stiff to stir with a spoon\n",
      "6.    turn out onto a lightly floured board and knead for about 20 minutes , adding flour as nescessary to keep the dough from sticking to the board\n",
      "7.    the dough should be springy and nice to work with\n",
      "8.    when it has been sufficiently kneaded , cover it with a damp cloth for about 10 minutes and wash and grease the bowl lightly\n",
      "9.    after it has rested , knead the dough a few more times and place it in the bowl , covered with the damp cloth , a plastic bag , and maybe a plate\n",
      "10.    let the dough rise until it springs back when you stick your finger in it , and it is about twice the size as it was before (this takes about 2 hours\n",
      "11.    longer or shorter depending on the room temperature- i prefer a longer rise , because it allows the flavour to develop more\n",
      "12.    but sometimes you just don't have time for that sort of thing)\n",
      "13.    deflate the dough by punching or kneading it a few times , and let it rise again- this time , it should take about half the amount of time as it did before\n",
      "14.    when the dough has risen twice , deflate it again and cover it with the damp cloth again for about 10 minutes , then divide it into and shape it into loaves , buns , etc\n",
      "15.    let the shaped dough rise on a baking sheet or in a loaf-pan for about an hour maybe- it will rise a bit more in the oven\n",
      "16.    slash the top of the bread if you want , so that it doesn't bust open in the oven\n",
      "17.    bake at 400 for 20 minutes , and then turn the oven down to 350 and bake for 20-30 minutes longer , until the loaf is a lovely brown and sounds hollow when you thump it on the bottom\n",
      "18.    try to let the loaf cool before you tear into it\n",
      "----------\n",
      "Автор: 25483\n",
      "Среднее время приготовления: 290 минут\n",
      "\n",
      "6.     ['20 minutes']\n",
      "8.     ['10 minutes']\n",
      "10.     ['2 hours']\n",
      "14.     ['10 minutes']\n",
      "17.     ['20 minutes', '30 minutes']\n"
     ]
    }
   ],
   "source": [
    "p=re.compile(r'\\b\\d+\\s(?:hour|hours|minute|minutes)\\b')\n",
    "show_info(25082)\n",
    "for j, i in steps.items():\n",
    "    if p.findall(i)!=[]:\n",
    "        print(j, p.findall(i))"
   ]
  },
  {
   "cell_type": "markdown",
   "metadata": {},
   "source": [
    "4\\. Напишите регулярное выражение, которое ищет шаблон вида \"this..., but\" _в начале строки_ . Между словом \"this\" и частью \", but\" может находиться произвольное число букв, цифр, знаков подчеркивания и пробелов. Никаких других символов вместо многоточия быть не может. Пробел между запятой и словом \"but\" может присутствовать или отсутствовать.\n",
    "\n",
    "Используя строковые методы `pd.Series`, выясните, для каких рецептов данный шаблон содержится в тексте описания. Выведите на экран количество таких рецептов и 3 примера подходящих описаний (текст описания должен быть виден на экране полностью)."
   ]
  },
  {
   "cell_type": "code",
   "execution_count": 48,
   "metadata": {},
   "outputs": [
    {
     "name": "stdout",
     "output_type": "stream",
     "text": [
      "1. this is a great meal eaten the same day ,but even better the next day , if you can wait! add your favourite spices, but try it first as it is and i think that you will enjoy the 'vegetable' taste. good for freezing. \n",
      "\n",
      "2. this was adapted from a recipe i found on the net, but i added julienne onion to the peppers.  this is a meal in itself, or you could have a small slice with a meat dish.  for those that like to have brunch, it's a bit different to your traditional quiche recipes.  if you love cheese, you could add 1/2 cup of your favorite to the egg mixture, then pour over peppers. \n",
      "\n",
      "3. this is kind of similar to some of the other versions out there, but it is the best and easiest i have found \n",
      "\n",
      "Кол-во таких рецептов: 134\n"
     ]
    }
   ],
   "source": [
    "p=re.compile(r'^this[\\w\\s]*,\\s?but')\n",
    "descr=recipes['description']\n",
    "k=0\n",
    "j=3\n",
    "for i in descr:\n",
    "    if not(isinstance(i, str)):\n",
    "        continue\n",
    "    if p.search(i):\n",
    "        if j!=0:\n",
    "            print(f'{4-j}.', i, '\\n')\n",
    "            j-=1\n",
    "        k+=1\n",
    "print(f'Кол-во таких рецептов: {k}')"
   ]
  },
  {
   "cell_type": "markdown",
   "metadata": {},
   "source": [
    "5\\. В текстах шагов рецептов обыкновенные дроби имеют вид \"a / b\". Используя регулярные выражения, уберите в тексте шагов рецепта с id 72367 пробелы до и после символа дроби. Выведите на экран шаги этого рецепта после их изменения."
   ]
  },
  {
   "cell_type": "code",
   "execution_count": 87,
   "metadata": {},
   "outputs": [
    {
     "name": "stdout",
     "output_type": "stream",
     "text": [
      "\"Bavarian Apple Cheese Cake Tart\"\n",
      "1.    mix butter , flour , 1 / 3 c\n",
      "2.    sugar and 1-1 / 4 t\n",
      "3.    vanilla\n",
      "4.    press into greased 9\" springform pan\n",
      "5.    mix cream cheese , 1 / 4 c\n",
      "6.    sugar , eggs and 1 / 2 t\n",
      "7.    vanilla beating until fluffy\n",
      "8.    pour over dough\n",
      "9.    combine apples , 1 / 3 c\n",
      "10.    sugar and cinnamon\n",
      "11.    arrange on top of cream cheese mixture and sprinkle with almonds\n",
      "12.    bake at 350 for 45-55 minutes , or until tester comes out clean\n",
      "----------\n",
      "Автор: 93006\n",
      "Среднее время приготовления: 65 минут\n",
      "\n",
      "1.     mix butter , flour , 1/3 c\n",
      "2.     sugar and 1-1/4 t\n",
      "3.     vanilla\n",
      "4.     press into greased 9\" springform pan\n",
      "5.     mix cream cheese , 1/4 c\n",
      "6.     sugar , eggs and 1/2 t\n",
      "7.     vanilla beating until fluffy\n",
      "8.     pour over dough\n",
      "9.     combine apples , 1/3 c\n",
      "10.     sugar and cinnamon\n",
      "11.     arrange on top of cream cheese mixture and sprinkle with almonds\n",
      "12.     bake at 350 for 45-55 minutes , or until tester comes out clean\n"
     ]
    }
   ],
   "source": [
    "p=re.compile(r'\\b\\d+\\s*\\/\\s*\\d+\\b')\n",
    "show_info(72367)\n",
    "for i, j in steps.items():\n",
    "    if p.search(j)!=None:\n",
    "        x1=p.search(j).span()[0]\n",
    "        x2=p.search(j).span()[1]\n",
    "        q=j[x1:x2].replace(' ', '')\n",
    "        steps[i]=j.replace(j[x1:x2], q)\n",
    "for i, j in steps.items():\n",
    "    print(i, j)"
   ]
  },
  {
   "cell_type": "markdown",
   "metadata": {},
   "source": [
    "### Сегментация текста"
   ]
  },
  {
   "cell_type": "markdown",
   "metadata": {},
   "source": [
    "6\\. Разбейте тексты шагов рецептов на слова при помощи пакета `nltk`. Посчитайте и выведите на экран кол-во уникальных слов среди всех рецептов. Словом называется любая последовательность алфавитных символов (для проверки можно воспользоваться `str.isalpha`). При подсчете количества уникальных слов не учитывайте регистр."
   ]
  },
  {
   "cell_type": "markdown",
   "metadata": {},
   "source": [
    "7\\. Разбейте описания рецептов из `recipes` на предложения при помощи пакета `nltk`. Найдите 5 самых длинных описаний (по количеству _предложений_) рецептов в датасете и выведите строки фрейма, соответствующие этим рецептами, в порядке убывания длины."
   ]
  },
  {
   "cell_type": "markdown",
   "metadata": {},
   "source": [
    "8\\. Напишите функцию, которая для заданного предложения выводит информацию о частях речи слов, входящих в предложение, в следующем виде:\n",
    "```\n",
    "PRP   VBD   DT      NNS     CC   VBD      NNS        RB   \n",
    " I  omitted the raspberries and added strawberries instead\n",
    "``` \n",
    "Для определения части речи слова можно воспользоваться `nltk.pos_tag`.\n",
    "\n",
    "Проверьте работоспособность функции на названии рецепта с id 241106.\n",
    "\n",
    "Обратите внимание, что часть речи должна находиться ровно посередине над соотвествующим словом, а между самими словами должен быть ровно один пробел.\n"
   ]
  }
 ],
 "metadata": {
  "kernelspec": {
   "display_name": "Python 3 (ipykernel)",
   "language": "python",
   "name": "python3"
  },
  "language_info": {
   "codemirror_mode": {
    "name": "ipython",
    "version": 3
   },
   "file_extension": ".py",
   "mimetype": "text/x-python",
   "name": "python",
   "nbconvert_exporter": "python",
   "pygments_lexer": "ipython3",
   "version": "3.11.5"
  }
 },
 "nbformat": 4,
 "nbformat_minor": 4
}
