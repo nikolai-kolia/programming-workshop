{
 "cells": [
  {
   "cell_type": "markdown",
   "id": "77de46eb",
   "metadata": {},
   "source": [
    "а) Класс «Книга» и хеш-таблица для хранения объектов класса «Книга» по ключу — ISBN\n",
    "python"
   ]
  },
  {
   "cell_type": "code",
   "execution_count": 4,
   "id": "d7adecf2",
   "metadata": {},
   "outputs": [],
   "source": [
    "class Book:\n",
    "    def __init__(self, title, author, year, pages):\n",
    "        self.title = title\n",
    "        self.author = author\n",
    "        self.year = year\n",
    "        self.pages = pages\n",
    "\n",
    "class BookHashTable:\n",
    "    def __init__(self):\n",
    "        self.table = [None] * 1000  # инициализация таблицы\n",
    "\n",
    "    def hash_function(self, isbn):\n",
    "        return hash(isbn) % len(self.table)\n",
    "\n",
    "    def insert(self, book):\n",
    "        isbn = book.isbn\n",
    "        index = self.hash_function(isbn)\n",
    "        if self.table[index] is None:\n",
    "            self.table[index] = [book]\n",
    "        else:\n",
    "            for i, existing_book in enumerate(self.table[index]):\n",
    "                if existing_book.isbn == isbn:\n",
    "                    self.table[index][i] = book\n",
    "                    return\n",
    "            self.table[index].append(book)\n",
    "\n",
    "    def find(self, isbn):\n",
    "        index = self.hash_function(isbn)\n",
    "        if self.table[index] is None:\n",
    "            return None\n",
    "        for book in self.table[index]:\n",
    "            if book.isbn == isbn:\n",
    "                return book\n",
    "        return None\n",
    "\n",
    "    def count_greater_than(self, pages):\n",
    "        count = 0\n",
    "        for index in range(len(self.table)):\n",
    "            if self.table[index] is not None:\n",
    "                for book in self.table[index]:\n",
    "                    if book.pages > pages:\n",
    "                        count += 1\n",
    "        return count"
   ]
  },
  {
   "cell_type": "markdown",
   "id": "d5d82350",
   "metadata": {},
   "source": [
    "б) Функция для нахождения количества элементов из хеш-таблицы, у которых значение больше заданного значения\n",
    "python"
   ]
  },
  {
   "cell_type": "code",
   "execution_count": 5,
   "id": "ad459d5d",
   "metadata": {},
   "outputs": [],
   "source": [
    "def count_greater_than(hash_table, pages):\n",
    "    return hash_table.count_greater_than(pages)"
   ]
  },
  {
   "cell_type": "markdown",
   "id": "41241fab",
   "metadata": {},
   "source": [
    "в) Реализация хеш-таблицы для хранения информации о товарах на складе\n",
    "python"
   ]
  },
  {
   "cell_type": "code",
   "execution_count": 11,
   "id": "24829730",
   "metadata": {},
   "outputs": [
    {
     "name": "stdout",
     "output_type": "stream",
     "text": [
      "Продукт 1\n",
      "Продукт 2\n",
      "Продукт не найден\n",
      "Количество продуктов со значением больше 15: 2\n"
     ]
    }
   ],
   "source": [
    "class Product:\n",
    "    def __init__(self, name, barcode, quantity, price):\n",
    "        self.name = name\n",
    "        self.barcode = barcode\n",
    "        self.quantity = quantity\n",
    "        self.price = price\n",
    "\n",
    "class ProductHashTable:\n",
    "    def __init__(self):\n",
    "        self.table = [None] * 1000  # инициализация таблицы\n",
    "\n",
    "    def hash_function(self, barcode):\n",
    "        return hash(barcode) % len(self.table)\n",
    "\n",
    "    def insert(self, product):\n",
    "        barcode = product.barcode\n",
    "        index = self.hash_function(barcode)\n",
    "        if self.table[index] is None:\n",
    "            self.table[index] = [product]\n",
    "        else:\n",
    "            for i, existing_product in enumerate(self.table[index]):\n",
    "                if existing_product.barcode == barcode:\n",
    "                    self.table[index][i] = product\n",
    "                    return\n",
    "            self.table[index].append(product)\n",
    "\n",
    "    def find(self, barcode):\n",
    "        index = self.hash_function(barcode)\n",
    "        if self.table[index] is None:\n",
    "            return None\n",
    "        for product in self.table[index]:\n",
    "            if product.barcode == barcode:\n",
    "                return product\n",
    "        return None\n",
    "\n",
    "    def count_greater_than(self, quantity):\n",
    "        count = 0\n",
    "        for index in range(len(self.table)):\n",
    "            if self.table[index] is not None:\n",
    "                for product in self.table[index]:\n",
    "                    if product.quantity > quantity:\n",
    "                        count += 1\n",
    "        return count\n",
    "\n",
    "# создание хеш-таблицы\n",
    "hash_table = ProductHashTable()\n",
    "\n",
    "# добавление товаров в хеш-таблицу\n",
    "product1 = Product(\"Продукт 1\", \"1234567890\", 10, 5.0)\n",
    "product2 = Product(\"Продукт 2\", \"2345678901\", 20, 10.0)\n",
    "product3 = Product(\"Продукт 3\", \"3456789012\", 30, 15.0)\n",
    "\n",
    "hash_table.insert(product1)\n",
    "hash_table.insert(product2)\n",
    "hash_table.insert(product3)\n",
    "\n",
    "# поиск товара по штрих-коде\n",
    "product = hash_table.find(\"1234567890\")\n",
    "print(product.name if product else \"Продукт не найден\")\n",
    "product = hash_table.find(\"2345678901\")\n",
    "print(product.name if product else \"Продукт не найден\")\n",
    "product = hash_table.find(\"2345678903\")\n",
    "print(product.name if product else \"Продукт не найден\")\n",
    "\n",
    "# нахождение количества товаров с количеством больше заданного\n",
    "count = hash_table.count_greater_than(15)\n",
    "print(f\"Количество продуктов со значением больше 15: {count}\")"
   ]
  },
  {
   "cell_type": "code",
   "execution_count": null,
   "id": "aec5a46d",
   "metadata": {},
   "outputs": [],
   "source": []
  }
 ],
 "metadata": {
  "kernelspec": {
   "display_name": "Python 3 (ipykernel)",
   "language": "python",
   "name": "python3"
  },
  "language_info": {
   "codemirror_mode": {
    "name": "ipython",
    "version": 3
   },
   "file_extension": ".py",
   "mimetype": "text/x-python",
   "name": "python",
   "nbconvert_exporter": "python",
   "pygments_lexer": "ipython3",
   "version": "3.11.5"
  }
 },
 "nbformat": 4,
 "nbformat_minor": 5
}
