{
 "cells": [
  {
   "cell_type": "markdown",
   "id": "9e36dade",
   "metadata": {},
   "source": [
    "28.5\n",
    "1) Отфильтровать список целых чисел на чётные и нечётные числа с помощью лямбда-функции.\n",
    "2) Для удаления определённых слов из заданного списка используйте лямбда-функцию. Пример: дан список слов ['orange', 'red', 'green', 'blue', 'white', 'black'], удалить слова ['orange', 'black'] → ['red', 'green', 'blue', 'white'].\n",
    "3) Используя лямбда-функцию, проверить, отсортирован ли указанный список или нет."
   ]
  },
  {
   "cell_type": "code",
   "execution_count": 39,
   "id": "7e2e3517",
   "metadata": {},
   "outputs": [
    {
     "name": "stdout",
     "output_type": "stream",
     "text": [
      "['чётные:', 0, 2, 4, 6, 8, 10, 12, 14, 16, 18, 'нечётные:', 1, 3, 5, 7, 9, 11, 13, 15, 17, 19]\n",
      "['red', 'green', 'blue', 'white']\n",
      "True False True False\n"
     ]
    }
   ],
   "source": [
    "#1\n",
    "nums = [x for x in range(20)]\n",
    "\n",
    "print(['чётные:'] + list(filter(lambda x: x % 2 == 0, nums)) + ['нечётные:'] + list(filter(lambda x: x % 2 == 1, nums)))\n",
    "\n",
    "#2\n",
    "words = ['orange', 'red', 'green', 'blue', 'white', 'black']\n",
    "\n",
    "print(list(filter(lambda x: (x != 'orange' and x != 'black'), words)))\n",
    "\n",
    "#3\n",
    "def is_sorted(lst):\n",
    "    return lst == sorted(lst, key=lambda x: x)\n",
    "\n",
    "print(is_sorted(nums), is_sorted(words), is_sorted(['a', 'b', 'c', 'd']), is_sorted([5, 2, 3, 1, 4]))"
   ]
  },
  {
   "cell_type": "markdown",
   "id": "23d08444",
   "metadata": {},
   "source": [
    "29.5\n",
    "\n",
    "1) С помощью функции map() преобразуйте каждую строку из заданного списка строк в список символов. Пример: ['Red', 'Blue', 'Black', 'White', 'Pink'] → [['R', 'e', 'd'], ['B', 'l', 'u', 'e'], ['B', 'l', 'a', 'c', 'k'], ['W', 'h', 'i', 't', 'e'], ['P', 'i', 'n', 'k']].\n",
    "2) Сгенерировать список целых чисел. С помощью функции filter() выбрать из списка все числа больше заданного числа и упорядочить их по убыванию. Используя функцию reduce(), найти их произведение."
   ]
  },
  {
   "cell_type": "code",
   "execution_count": 37,
   "id": "52b5f1e1",
   "metadata": {},
   "outputs": [
    {
     "name": "stdout",
     "output_type": "stream",
     "text": [
      "[['R', 'e', 'd'], ['B', 'l', 'u', 'e'], ['B', 'l', 'a', 'c', 'k'], ['W', 'h', 'i', 't', 'e'], ['P', 'i', 'n', 'k']]\n",
      "3024\n"
     ]
    }
   ],
   "source": [
    "#1\n",
    "print(list(map(lambda x: list(x), ['Red', 'Blue', 'Black', 'White', 'Pink'])))\n",
    "\n",
    "#2\n",
    "from functools import reduce\n",
    "\n",
    "print(reduce(lambda x, y: x * y, list(filter(lambda x: x > 5, [x for x in range(10)]))[::-1]))"
   ]
  },
  {
   "cell_type": "markdown",
   "id": "df598ad1",
   "metadata": {},
   "source": [
    "30.5\n",
    "1) Создайте декоратор, который будет выводить на экран количество вызовов функции за определенный период времени.\n",
    "2) Создайте декоратор, который будет принимать несколько аргументов и передавать их в функцию в качестве позиционных параметров с заданными значениями по умолчанию."
   ]
  },
  {
   "cell_type": "code",
   "execution_count": 76,
   "id": "99a5e687",
   "metadata": {},
   "outputs": [
    {
     "name": "stdout",
     "output_type": "stream",
     "text": [
      "Данную функцию выводили на экран 1 за 0.0 секунд\n",
      "True\n",
      "Данную функцию выводили на экран 2 за 0.007717132568359375 секунд\n",
      "False\n",
      "Данную функцию выводили на экран 3 за 0.007717132568359375 секунд\n",
      "True\n",
      "Данную функцию выводили на экран 4 за 0.007717132568359375 секунд\n",
      "False\n",
      "a: 1, b: 2, c: 3\n",
      "a: 1, b: 2, c: 3000\n",
      "a: 1, b: 2000, c: 3000\n",
      "a: 1000, b: 2000, c: 3000\n"
     ]
    }
   ],
   "source": [
    "#1\n",
    "import time\n",
    "\n",
    "def count_decorator(func):\n",
    "    call_count = 0\n",
    "    start_time = time.time()\n",
    "    def f(*args, **kwargs):\n",
    "        nonlocal call_count\n",
    "        call_count += 1\n",
    "        current_time = time.time() - start_time\n",
    "        print(f\"Данную функцию выводили на экран {call_count} за {current_time} секунд\")\n",
    "        return func(*args, **kwargs)\n",
    "    return f\n",
    "\n",
    "@count_decorator\n",
    "def is_sorted(lst):\n",
    "    return lst == sorted(lst, key=lambda x: x)\n",
    "\n",
    "print(is_sorted([x for x in range(40000)]))\n",
    "print(is_sorted(words))\n",
    "print(is_sorted(['a', 'b', 'c', 'd']))\n",
    "print(is_sorted([5, 2, 3, 1, 4]))\n",
    "\n",
    "#2\n",
    "def args_decorator(func):\n",
    "    def f(*args, **kwargs):\n",
    "        default_args = (1000, 2000, 3000) # Задаем значения по умолчанию для позиционных аргументов\n",
    "        all_args = list(args) + list(default_args[len(args):]) # Дополняем аргументы по умолчанию\n",
    "        return func(*all_args[:len(default_args)], **kwargs)\n",
    "    return f\n",
    "\n",
    "@args_decorator\n",
    "def example_function(a, b, c):\n",
    "    print(f\"a: {a}, b: {b}, c: {c}\")\n",
    "\n",
    "example_function(1, 2, 3)\n",
    "example_function(1, 2)\n",
    "example_function(1)\n",
    "example_function()"
   ]
  },
  {
   "cell_type": "code",
   "execution_count": null,
   "id": "0896acc3",
   "metadata": {},
   "outputs": [],
   "source": []
  }
 ],
 "metadata": {
  "kernelspec": {
   "display_name": "Python 3 (ipykernel)",
   "language": "python",
   "name": "python3"
  },
  "language_info": {
   "codemirror_mode": {
    "name": "ipython",
    "version": 3
   },
   "file_extension": ".py",
   "mimetype": "text/x-python",
   "name": "python",
   "nbconvert_exporter": "python",
   "pygments_lexer": "ipython3",
   "version": "3.11.5"
  }
 },
 "nbformat": 4,
 "nbformat_minor": 5
}
