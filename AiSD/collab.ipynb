{
 "cells": [
  {
   "cell_type": "markdown",
   "id": "7107cbcd",
   "metadata": {},
   "source": [
    "Класс – отрезок. Методы – расчет середины и длины. Поля класса – координаты начала, конца, середины и длина."
   ]
  },
  {
   "cell_type": "code",
   "execution_count": 1,
   "id": "f9260057",
   "metadata": {},
   "outputs": [
    {
     "name": "stdout",
     "output_type": "stream",
     "text": [
      "Длина отрезка: 9\n",
      "Середина отрезка: 4.5\n",
      "Длина отрезка: 5\n",
      "Середина отрезка: 2.5\n",
      "Длина отрезка: 3\n",
      "Середина отрезка: 1.5\n"
     ]
    }
   ],
   "source": [
    "#25.5\n",
    "class Segment:\n",
    "    def __init__(self, start, end):\n",
    "        self.start = start\n",
    "        self.end = end\n",
    "        self.length = self.calculate_length()\n",
    "        self.midpoint = self.calculate_midpoint()\n",
    "\n",
    "    def calculate_length(self):\n",
    "        return abs(self.end - self.start)\n",
    "\n",
    "    def calculate_midpoint(self):\n",
    "        return self.length / 2\n",
    "\n",
    "\n",
    "segment1 = Segment(1, 10)\n",
    "print(f\"Длина отрезка: {segment1.length}\")\n",
    "print(f\"Середина отрезка: {segment1.midpoint}\")\n",
    "segment2 = Segment(15, 10)\n",
    "print(f\"Длина отрезка: {segment2.length}\")\n",
    "print(f\"Середина отрезка: {segment2.midpoint}\")\n",
    "segment3 = Segment(-2, 1)\n",
    "print(f\"Длина отрезка: {segment3.length}\")\n",
    "print(f\"Середина отрезка: {segment3.midpoint}\")"
   ]
  },
  {
   "cell_type": "markdown",
   "id": "28c77aba",
   "metadata": {},
   "source": [
    "Опишите класс Angle, заданный величиной в градусах и минутах (двумя полями). Включите в описание класса методы, позволяющие реализовать перевод в радианы, привести величину угла к диапазону 0–360°, увеличить и уменьшить угол на заданную величину и свойство, позволяющее определить, является ли угол тупым."
   ]
  },
  {
   "cell_type": "code",
   "execution_count": 35,
   "id": "bc432b1f",
   "metadata": {},
   "outputs": [
    {
     "name": "stdout",
     "output_type": "stream",
     "text": [
      "Результат перевода угла в радианы: 1.58\n",
      "Результат увеличения угла: (440, 50)\n",
      "Результат уменьшения угла: (410, 50)\n",
      "Проверка на тупость: False\n",
      "Результат приведения величины угла к диапазону 0–360 градусов: 50.83\n"
     ]
    }
   ],
   "source": [
    "#26.5\n",
    "class Angle:\n",
    "    def __init__(self, degrees, minutes):\n",
    "        self.degrees = degrees\n",
    "        self.minutes = minutes\n",
    "\n",
    "    def to_radians(self):\n",
    "        return (self.degrees + self.minutes / 60) * 3.14 / 180\n",
    "\n",
    "    def from_zero_to_threesixty(self):\n",
    "        self.degrees = (self.degrees + self.minutes * 0.016667) % 360\n",
    "        self.minutes = 0\n",
    "        return self.degrees\n",
    "\n",
    "    def change_angle(self, amount):\n",
    "        self.degrees += amount\n",
    "        return (self.degrees, self.minutes)\n",
    "\n",
    "    def is_obtuse(self):\n",
    "        total_degrees = (self.degrees + self.minutes * 0.016667) % 360\n",
    "        return total_degrees > 90 and total_degrees < 270\n",
    "    \n",
    "    \n",
    "angle = Angle(90, 50)\n",
    "print(f\"Результат перевода угла в радианы: {angle.to_radians():.2f}\")\n",
    "print(f\"Результат увеличения угла: {angle.change_angle(350)}\")\n",
    "print(f\"Результат уменьшения угла: {angle.change_angle(-30)}\")\n",
    "print(f\"Проверка на тупость: {angle.is_obtuse()}\")\n",
    "print(f\"Результат приведения величины угла к диапазону 0–360 градусов: {angle.from_zero_to_threesixty():.2f}\")"
   ]
  },
  {
   "cell_type": "markdown",
   "id": "ce32ceaa",
   "metadata": {},
   "source": [
    "Создайте класс ТОВАР с методами, позволяющими вывести на экран информацию о товаре, а также определить, предназначен ли он для заданного возраста потребителя. Создайте дочерние классы ИГРУШКА (название, цена, производитель, материал, возраст, на который рассчитана), КНИГА (название, автор, цена, издательство, возраст, на который рассчитана), СПОРТИНВЕНТАРЬ (название, цена, производитель, возраст, на который рассчитан) со своими методами вывода информации на экран и определения соответствия возрасту потребителя. Создайте список из  n  товаров, выведите полную информацию из базы на экран, а также организуйте поиск товаров для потребителя в заданном возрастном диапазоне."
   ]
  },
  {
   "cell_type": "code",
   "execution_count": 45,
   "id": "02b9ba70",
   "metadata": {},
   "outputs": [
    {
     "name": "stdout",
     "output_type": "stream",
     "text": [
      "Название: Базз Лайтер\n",
      "Цена: 19.99\n",
      "Рекомендованный возраст: 12\n",
      "Цвет: Бело-зеленый\n",
      "Материал: Пластик\n",
      "\n",
      "Название: Вокруг света за 80 дней\n",
      "Цена: 9.99\n",
      "Рекомендованный возраст: 10\n",
      "Автор: Жюль Верн\n",
      "\n",
      "Название: Спортивная сумка\n",
      "Цена: 29.99\n",
      "Рекомендованный возраст: 16\n",
      "Производитель: Nike\n",
      "\n",
      "Продукты подходящие для возраста от 11 до 18 лет:\n",
      "Название: Базз Лайтер\n",
      "Цена: 19.99\n",
      "Рекомендованный возраст: 12\n",
      "Цвет: Бело-зеленый\n",
      "Материал: Пластик\n",
      "\n",
      "Название: Спортивная сумка\n",
      "Цена: 29.99\n",
      "Рекомендованный возраст: 16\n",
      "Производитель: Nike\n",
      "\n"
     ]
    }
   ],
   "source": [
    "#27.5\n",
    "class Product:\n",
    "    def __init__(self, name, price, age):\n",
    "        self.name = name\n",
    "        self.price = price\n",
    "        self.age = age\n",
    "\n",
    "    def display_info(self):\n",
    "        print(f\"Название: {self.name}\\nЦена: {self.price}\\nРекомендованный возраст: {self.age}\")\n",
    "\n",
    "    def is_age_appropriate(self, consumer_age):\n",
    "        return consumer_age >= self.age\n",
    "\n",
    "class Toy(Product):\n",
    "    def __init__(self, name, price, color, material, age):\n",
    "        super().__init__(name, price, age)\n",
    "        self.color = color\n",
    "        self.material = material\n",
    "\n",
    "    def display_info(self):\n",
    "        super().display_info()\n",
    "        print(f\"Цвет: {self.color}\\nМатериал: {self.material}\")\n",
    "\n",
    "class Book(Product):\n",
    "    def __init__(self, name, author, price, age):\n",
    "        super().__init__(name, price, age)\n",
    "        self.author = author\n",
    "\n",
    "    def display_info(self):\n",
    "        super().display_info()\n",
    "        print(f\"Автор: {self.author}\")\n",
    "\n",
    "class SportsEquipment(Product):\n",
    "    def __init__(self, name, price, vender, age):\n",
    "        super().__init__(name, price, age)\n",
    "        self.vender = vender\n",
    "\n",
    "    def display_info(self):\n",
    "        super().display_info()\n",
    "        print(f\"Производитель: {self.vender}\")\n",
    "\n",
    "products = [\n",
    "    Toy(\"Базз Лайтер\", 19.99, \"Бело-зеленый\", \"Пластик\", 12),\n",
    "    Book(\"Вокруг света за 80 дней\", \"Жюль Верн\", 9.99, 10),\n",
    "    SportsEquipment(\"Спортивная сумка\", 29.99, \"Nike\", 16)\n",
    "]\n",
    "\n",
    "for product in products:\n",
    "    product.display_info()\n",
    "    print()\n",
    "\n",
    "def search_products_by_age(products, min_age, max_age):\n",
    "    suitable_products = [product for product in products if min_age <= product.age <= max_age]\n",
    "    return suitable_products\n",
    "\n",
    "min_age = 11\n",
    "max_age = 18\n",
    "filtered_products = search_products_by_age(products, min_age, max_age)\n",
    "\n",
    "print(f\"Продукты подходящие для возраста от {min_age} до {max_age} лет:\")\n",
    "for product in filtered_products:\n",
    "    product.display_info()\n",
    "    print()"
   ]
  },
  {
   "cell_type": "code",
   "execution_count": null,
   "id": "e44832ac",
   "metadata": {},
   "outputs": [],
   "source": []
  }
 ],
 "metadata": {
  "kernelspec": {
   "display_name": "Python 3 (ipykernel)",
   "language": "python",
   "name": "python3"
  },
  "language_info": {
   "codemirror_mode": {
    "name": "ipython",
    "version": 3
   },
   "file_extension": ".py",
   "mimetype": "text/x-python",
   "name": "python",
   "nbconvert_exporter": "python",
   "pygments_lexer": "ipython3",
   "version": "3.11.5"
  }
 },
 "nbformat": 4,
 "nbformat_minor": 5
}
